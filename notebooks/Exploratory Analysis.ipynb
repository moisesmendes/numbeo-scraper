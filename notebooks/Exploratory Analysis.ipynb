{
 "cells": [
  {
   "cell_type": "markdown",
   "id": "23ff968e",
   "metadata": {},
   "source": [
    "### Testing scraper with Amsterdam"
   ]
  },
  {
   "cell_type": "code",
   "execution_count": 1,
   "id": "049e5f19",
   "metadata": {},
   "outputs": [],
   "source": [
    "import os\n",
    "os.chdir(\"..\")"
   ]
  },
  {
   "cell_type": "code",
   "execution_count": 2,
   "id": "143cbc2a",
   "metadata": {},
   "outputs": [],
   "source": [
    "import warnings\n",
    "warnings.filterwarnings(\"ignore\")"
   ]
  },
  {
   "cell_type": "code",
   "execution_count": 8,
   "id": "f28d902a",
   "metadata": {},
   "outputs": [],
   "source": [
    "import json\n",
    "from scraper.scrape import API, URL"
   ]
  },
  {
   "cell_type": "code",
   "execution_count": 4,
   "id": "15b16d23",
   "metadata": {},
   "outputs": [
    {
     "data": {
      "text/plain": [
       "'https://www.numbeo.com/cost-of-living/'"
      ]
     },
     "execution_count": 4,
     "metadata": {},
     "output_type": "execute_result"
    }
   ],
   "source": [
    "URL"
   ]
  },
  {
   "cell_type": "code",
   "execution_count": 5,
   "id": "3ec2a7a7",
   "metadata": {},
   "outputs": [],
   "source": [
    "api = API(URL, \"Netherlands\")"
   ]
  },
  {
   "cell_type": "code",
   "execution_count": 7,
   "id": "70c0af81",
   "metadata": {},
   "outputs": [],
   "source": [
    "amsterdam = api.get_single_city(\"Amsterdam\")"
   ]
  },
  {
   "cell_type": "code",
   "execution_count": 12,
   "id": "1263b68a",
   "metadata": {},
   "outputs": [
    {
     "name": "stdout",
     "output_type": "stream",
     "text": [
      "{\n",
      "  \"\\n\\nRestaurants\": [\n",
      "    [\n",
      "      \"Meal, Inexpensive Restaurant \",\n",
      "      \" 16.00\\u00a0\\u20ac\",\n",
      "      \"\\n\\n11.00-30.00\"\n",
      "    ],\n",
      "    [\n",
      "      \"Meal for 2 People, Mid-range Restaurant, Three-course \",\n",
      "      \" 70.00\\u00a0\\u20ac\",\n",
      "      \"\\n\\n50.00-90.00\"\n",
      "    ],\n",
      "    [\n",
      "      \"McMeal at McDonalds (or Equivalent Combo Meal) \",\n",
      "      \" 9.00\\u00a0\\u20ac\",\n",
      "      \"\\n\\n8.00-10.00\"\n",
      "    ],\n",
      "    [\n",
      "      \"Domestic Beer (0.5 liter draught) \",\n",
      "      \" 5.00\\u00a0\\u20ac\",\n",
      "      \"\\n\\n4.00-8.00\"\n",
      "    ],\n",
      "    [\n",
      "      \"Imported Beer (0.33 liter bottle) \",\n",
      "      \" 4.50\\u00a0\\u20ac\",\n",
      "      \"\\n\\n3.10-6.00\"\n",
      "    ],\n",
      "    [\n",
      "      \"Cappuccino (regular) \",\n",
      "      \" 3.46\\u00a0\\u20ac\",\n",
      "      \"\\n\\n2.00-5.00\"\n",
      "    ],\n",
      "    [\n",
      "      \"Coke/Pepsi (0.33 liter bottle) \",\n",
      "      \" 2.67\\u00a0\\u20ac\",\n",
      "      \"\\n\\n2.00-4.00\"\n",
      "    ],\n",
      "    [\n",
      "      \"Water (0.33 liter bottle)  \",\n",
      "      \" 2.29\\u00a0\\u20ac\",\n",
      "      \"\\n\\n2.00-3.00\"\n",
      "    ]\n",
      "  ],\n",
      "  \"\\n\\nMarkets\": [\n",
      "    [\n",
      "      \"Milk (regular), (1 liter) \",\n",
      "      \" 1.06\\u00a0\\u20ac\",\n",
      "      \"\\n\\n0.90-1.49\"\n",
      "    ],\n",
      "    [\n",
      "      \"Loaf of Fresh White Bread (500g) \",\n",
      "      \" 1.72\\u00a0\\u20ac\",\n",
      "      \"\\n\\n0.99-3.60\"\n",
      "    ],\n",
      "    [\n",
      "      \"Rice (white), (1kg) \",\n",
      "      \" 1.89\\u00a0\\u20ac\",\n",
      "      \"\\n\\n1.00-3.80\"\n",
      "    ],\n",
      "    [\n",
      "      \"Eggs (regular) (12) \",\n",
      "      \" 2.44\\u00a0\\u20ac\",\n",
      "      \"\\n\\n1.63-4.20\"\n",
      "    ],\n",
      "    [\n",
      "      \"Local Cheese (1kg) \",\n",
      "      \" 10.61\\u00a0\\u20ac\",\n",
      "      \"\\n\\n6.50-14.00\"\n",
      "    ],\n",
      "    [\n",
      "      \"Chicken Fillets (1kg) \",\n",
      "      \" 7.93\\u00a0\\u20ac\",\n",
      "      \"\\n\\n5.00-12.00\"\n",
      "    ],\n",
      "    [\n",
      "      \"Beef Round (1kg) (or Equivalent Back Leg Red Meat) \",\n",
      "      \" 19.33\\u00a0\\u20ac\",\n",
      "      \"\\n\\n6.99-27.49\"\n",
      "    ],\n",
      "    [\n",
      "      \"Apples (1kg) \",\n",
      "      \" 2.75\\u00a0\\u20ac\",\n",
      "      \"\\n\\n1.50-3.00\"\n",
      "    ],\n",
      "    [\n",
      "      \"Banana (1kg) \",\n",
      "      \" 1.46\\u00a0\\u20ac\",\n",
      "      \"\\n\\n1.10-2.90\"\n",
      "    ],\n",
      "    [\n",
      "      \"Oranges (1kg) \",\n",
      "      \" 1.74\\u00a0\\u20ac\",\n",
      "      \"\\n\\n1.30-3.00\"\n",
      "    ],\n",
      "    [\n",
      "      \"Tomato (1kg) \",\n",
      "      \" 2.35\\u00a0\\u20ac\",\n",
      "      \"\\n\\n1.50-3.50\"\n",
      "    ],\n",
      "    [\n",
      "      \"Potato (1kg) \",\n",
      "      \" 1.35\\u00a0\\u20ac\",\n",
      "      \"\\n\\n0.79-2.40\"\n",
      "    ],\n",
      "    [\n",
      "      \"Onion (1kg) \",\n",
      "      \" 1.10\\u00a0\\u20ac\",\n",
      "      \"\\n\\n0.80-2.00\"\n",
      "    ],\n",
      "    [\n",
      "      \"Lettuce (1 head) \",\n",
      "      \" 0.86\\u00a0\\u20ac\",\n",
      "      \"\\n\\n0.75-1.00\"\n",
      "    ],\n",
      "    [\n",
      "      \"Water (1.5 liter bottle) \",\n",
      "      \" 0.79\\u00a0\\u20ac\",\n",
      "      \"\\n\\n0.56-1.50\"\n",
      "    ],\n",
      "    [\n",
      "      \"Bottle of Wine (Mid-Range) \",\n",
      "      \" 5.99\\u00a0\\u20ac\",\n",
      "      \"\\n\\n5.00-8.00\"\n",
      "    ],\n",
      "    [\n",
      "      \"Domestic Beer (0.5 liter bottle) \",\n",
      "      \" 1.18\\u00a0\\u20ac\",\n",
      "      \"\\n\\n0.76-2.00\"\n",
      "    ],\n",
      "    [\n",
      "      \"Imported Beer (0.33 liter bottle) \",\n",
      "      \" 1.85\\u00a0\\u20ac\",\n",
      "      \"\\n\\n1.00-3.00\"\n",
      "    ],\n",
      "    [\n",
      "      \"Cigarettes 20 Pack (Marlboro) \",\n",
      "      \" 8.00\\u00a0\\u20ac\",\n",
      "      \"\\n\\n8.00-8.40\"\n",
      "    ]\n",
      "  ],\n",
      "  \"\\n\\nTransportation\": [\n",
      "    [\n",
      "      \"One-way Ticket (Local Transport) \",\n",
      "      \" 3.20\\u00a0\\u20ac\",\n",
      "      \"\\n\\n2.50-5.00\"\n",
      "    ],\n",
      "    [\n",
      "      \"Monthly Pass (Regular Price) \",\n",
      "      \" 97.50\\u00a0\\u20ac\",\n",
      "      \"\\n\\n86.96-100.00\"\n",
      "    ],\n",
      "    [\n",
      "      \"Taxi Start (Normal Tariff) \",\n",
      "      \" 5.00\\u00a0\\u20ac\",\n",
      "      \"\\n\\n3.00-7.50\"\n",
      "    ],\n",
      "    [\n",
      "      \"Taxi 1km (Normal Tariff) \",\n",
      "      \" 2.40\\u00a0\\u20ac\",\n",
      "      \"\\n\\n1.95-3.11\"\n",
      "    ],\n",
      "    [\n",
      "      \"Taxi 1hour Waiting (Normal Tariff) \",\n",
      "      \" 45.00\\u00a0\\u20ac\",\n",
      "      \"\\n\\n40.00-49.00\"\n",
      "    ],\n",
      "    [\n",
      "      \"Gasoline (1 liter) \",\n",
      "      \" 1.80\\u00a0\\u20ac\",\n",
      "      \"\\n\\n1.56-2.00\"\n",
      "    ],\n",
      "    [\n",
      "      \"Volkswagen Golf 1.4 90 KW Trendline (Or Equivalent New Car) \",\n",
      "      \" 26,989.50\\u00a0\\u20ac\",\n",
      "      \"\\n\\n25,000.00-29,840.00\"\n",
      "    ],\n",
      "    [\n",
      "      \"Toyota Corolla Sedan 1.6l 97kW Comfort (Or Equivalent New Car) \",\n",
      "      \" 28,924.29\\u00a0\\u20ac\",\n",
      "      \"\\n\\n27,000.00-29,980.00\"\n",
      "    ]\n",
      "  ],\n",
      "  \"\\n\\nUtilities (Monthly)\": [\n",
      "    [\n",
      "      \"Basic (Electricity, Heating, Cooling, Water, Garbage) for 85m2 Apartment \",\n",
      "      \" 168.05\\u00a0\\u20ac\",\n",
      "      \"\\n\\n107.37-216.36\"\n",
      "    ],\n",
      "    [\n",
      "      \"1 min. of Prepaid Mobile Tariff Local (No Discounts or Plans) \",\n",
      "      \" 0.13\\u00a0\\u20ac\",\n",
      "      \"\\n\\n0.05-0.19\"\n",
      "    ],\n",
      "    [\n",
      "      \"Internet (60 Mbps or More, Unlimited Data, Cable/ADSL) \",\n",
      "      \" 47.16\\u00a0\\u20ac\",\n",
      "      \"\\n\\n35.00-67.00\"\n",
      "    ]\n",
      "  ],\n",
      "  \"\\n\\nSports And Leisure\": [\n",
      "    [\n",
      "      \"Fitness Club, Monthly Fee for 1 Adult \",\n",
      "      \" 43.09\\u00a0\\u20ac\",\n",
      "      \"\\n\\n20.00-70.00\"\n",
      "    ],\n",
      "    [\n",
      "      \"Tennis Court Rent (1 Hour on Weekend) \",\n",
      "      \" 29.71\\u00a0\\u20ac\",\n",
      "      \"\\n\\n20.00-40.00\"\n",
      "    ],\n",
      "    [\n",
      "      \"Cinema, International Release, 1 Seat \",\n",
      "      \" 12.00\\u00a0\\u20ac\",\n",
      "      \"\\n\\n10.00-15.00\"\n",
      "    ]\n",
      "  ],\n",
      "  \"\\n\\nChildcare\": [\n",
      "    [\n",
      "      \"Preschool (or Kindergarten), Full Day, Private, Monthly for 1 Child \",\n",
      "      \" 1,892.73\\u00a0\\u20ac\",\n",
      "      \"\\n\\n1,500.00-2,200.00\"\n",
      "    ],\n",
      "    [\n",
      "      \"International Primary School, Yearly for 1 Child \",\n",
      "      \" 14,511.80\\u00a0\\u20ac\",\n",
      "      \"\\n\\n8,500.00-25,000.00\"\n",
      "    ]\n",
      "  ],\n",
      "  \"\\n\\nClothing And Shoes\": [\n",
      "    [\n",
      "      \"1 Pair of Jeans (Levis 501 Or Similar) \",\n",
      "      \" 90.85\\u00a0\\u20ac\",\n",
      "      \"\\n\\n50.00-120.00\"\n",
      "    ],\n",
      "    [\n",
      "      \"1 Summer Dress in a Chain Store (Zara, H&M, ...) \",\n",
      "      \" 41.24\\u00a0\\u20ac\",\n",
      "      \"\\n\\n20.00-50.00\"\n",
      "    ],\n",
      "    [\n",
      "      \"1 Pair of Nike Running Shoes (Mid-Range) \",\n",
      "      \" 94.73\\u00a0\\u20ac\",\n",
      "      \"\\n\\n60.00-130.00\"\n",
      "    ],\n",
      "    [\n",
      "      \"1 Pair of Men Leather Business Shoes \",\n",
      "      \" 129.52\\u00a0\\u20ac\",\n",
      "      \"\\n\\n80.00-200.00\"\n",
      "    ]\n",
      "  ],\n",
      "  \"\\n\\nRent Per Month\": [\n",
      "    [\n",
      "      \"Apartment (1 bedroom) in City Centre \",\n",
      "      \" 1,536.90\\u00a0\\u20ac\",\n",
      "      \"\\n\\n1,300.00-1,900.00\"\n",
      "    ],\n",
      "    [\n",
      "      \"Apartment (1 bedroom) Outside of Centre \",\n",
      "      \" 1,230.00\\u00a0\\u20ac\",\n",
      "      \"\\n\\n1,000.00-1,500.00\"\n",
      "    ],\n",
      "    [\n",
      "      \"Apartment (3 bedrooms) in City Centre \",\n",
      "      \" 2,622.11\\u00a0\\u20ac\",\n",
      "      \"\\n\\n2,100.00-4,000.00\"\n",
      "    ],\n",
      "    [\n",
      "      \"Apartment (3 bedrooms) Outside of Centre \",\n",
      "      \" 1,975.14\\u00a0\\u20ac\",\n",
      "      \"\\n\\n1,660.00-2,500.00\"\n",
      "    ]\n",
      "  ],\n",
      "  \"\\n\\nBuy Apartment Price\": [\n",
      "    [\n",
      "      \"Price per Square Meter to Buy Apartment in City Centre \",\n",
      "      \" 8,010.90\\u00a0\\u20ac\",\n",
      "      \"\\n\\n7,000.00-10,000.00\"\n",
      "    ],\n",
      "    [\n",
      "      \"Price per Square Meter to Buy Apartment Outside of Centre \",\n",
      "      \" 5,625.64\\u00a0\\u20ac\",\n",
      "      \"\\n\\n4,500.00-7,500.00\"\n",
      "    ]\n",
      "  ],\n",
      "  \"\\n\\nSalaries And Financing\": [\n",
      "    [\n",
      "      \"Average Monthly Net Salary (After Tax) \",\n",
      "      \" 3,235.51\\u00a0\\u20ac\",\n",
      "      \"\"\n",
      "    ],\n",
      "    [\n",
      "      \"Mortgage Interest Rate in Percentages (%), Yearly, for 20 Years Fixed-Rate \",\n",
      "      \" 1.86\",\n",
      "      \"\\n\\n1.50-2.20\"\n",
      "    ]\n",
      "  ]\n",
      "}\n"
     ]
    }
   ],
   "source": [
    "print(json.dumps(amsterdam, indent=2))"
   ]
  },
  {
   "cell_type": "code",
   "execution_count": 13,
   "id": "4ea16209",
   "metadata": {},
   "outputs": [
    {
     "data": {
      "text/plain": [
       "[['Apartment (1 bedroom) in City Centre ',\n",
       "  ' 1,536.90\\xa0€',\n",
       "  '\\n\\n1,300.00-1,900.00'],\n",
       " ['Apartment (1 bedroom) Outside of Centre ',\n",
       "  ' 1,230.00\\xa0€',\n",
       "  '\\n\\n1,000.00-1,500.00'],\n",
       " ['Apartment (3 bedrooms) in City Centre ',\n",
       "  ' 2,622.11\\xa0€',\n",
       "  '\\n\\n2,100.00-4,000.00'],\n",
       " ['Apartment (3 bedrooms) Outside of Centre ',\n",
       "  ' 1,975.14\\xa0€',\n",
       "  '\\n\\n1,660.00-2,500.00']]"
      ]
     },
     "execution_count": 13,
     "metadata": {},
     "output_type": "execute_result"
    }
   ],
   "source": [
    "amsterdam[\"\\n\\nRent Per Month\"]"
   ]
  },
  {
   "cell_type": "markdown",
   "id": "d2ba78fb",
   "metadata": {},
   "source": [
    "### Processing keys"
   ]
  },
  {
   "cell_type": "code",
   "execution_count": 14,
   "id": "47d08b5b",
   "metadata": {},
   "outputs": [
    {
     "name": "stdout",
     "output_type": "stream",
     "text": [
      "['\\n\\nRestaurants', '\\n\\nMarkets', '\\n\\nTransportation', '\\n\\nUtilities (Monthly)', '\\n\\nSports And Leisure', '\\n\\nChildcare', '\\n\\nClothing And Shoes', '\\n\\nRent Per Month', '\\n\\nBuy Apartment Price', '\\n\\nSalaries And Financing']\n"
     ]
    }
   ],
   "source": [
    "print([key for key in amsterdam])"
   ]
  },
  {
   "cell_type": "code",
   "execution_count": 24,
   "id": "898d8499",
   "metadata": {},
   "outputs": [
    {
     "data": {
      "text/plain": [
       "dict_keys(['Restaurants', 'Markets', 'Transportation', 'Utilities (Monthly)', 'Sports And Leisure', 'Childcare', 'Clothing And Shoes', 'Rent Per Month', 'Buy Apartment Price', 'Salaries And Financing'])"
      ]
     },
     "execution_count": 24,
     "metadata": {},
     "output_type": "execute_result"
    }
   ],
   "source": [
    "ams_clean = {elem[2:]:amsterdam[elem] for elem in list(amsterdam.keys())}\n",
    "ams_clean.keys()"
   ]
  },
  {
   "cell_type": "markdown",
   "id": "63c23aaf",
   "metadata": {},
   "source": [
    "#### Processing rent"
   ]
  },
  {
   "cell_type": "code",
   "execution_count": null,
   "id": "3f7a4e66",
   "metadata": {},
   "outputs": [],
   "source": [
    "rent_idx = ('Rent Per Month', 0, 1) # 'Apartment (1 bedroom) in City Centre' - mean value"
   ]
  },
  {
   "cell_type": "code",
   "execution_count": 42,
   "id": "26dc83e0",
   "metadata": {},
   "outputs": [
    {
     "data": {
      "text/plain": [
       "' 1,536.90\\xa0€'"
      ]
     },
     "execution_count": 42,
     "metadata": {},
     "output_type": "execute_result"
    }
   ],
   "source": [
    "rent = ams_clean[rent_idx[0]][rent_idx[1]][rent_idx[2]]\n",
    "rent"
   ]
  },
  {
   "cell_type": "code",
   "execution_count": 45,
   "id": "09f94e7f",
   "metadata": {},
   "outputs": [
    {
     "data": {
      "text/plain": [
       "'1,536.90'"
      ]
     },
     "execution_count": 45,
     "metadata": {},
     "output_type": "execute_result"
    }
   ],
   "source": [
    "rent = rent.replace(u'\\xa0', u'').strip()[:-1]\n",
    "rent"
   ]
  },
  {
   "cell_type": "code",
   "execution_count": 47,
   "id": "b0b496a9",
   "metadata": {},
   "outputs": [
    {
     "data": {
      "text/plain": [
       "1536.9"
      ]
     },
     "execution_count": 47,
     "metadata": {},
     "output_type": "execute_result"
    }
   ],
   "source": [
    "float(rent.replace(',', ''))"
   ]
  },
  {
   "cell_type": "markdown",
   "id": "5a3187ec",
   "metadata": {},
   "source": [
    "### Generalizing"
   ]
  },
  {
   "cell_type": "code",
   "execution_count": 49,
   "id": "04234009",
   "metadata": {},
   "outputs": [],
   "source": [
    "def get_formatted_price(\n",
    "    city_info: dict, \n",
    "    group_key: str = \"\", \n",
    "    price_idx: tuple = (0, 1)):\n",
    "    \n",
    "    price_str = city_info[group_key][price_idx[0]][price_idx[1]]\n",
    "    price_str = price_str.replace(u'\\xa0', u'').strip()[:-1]\n",
    "    return float(price_str.replace(',', ''))"
   ]
  },
  {
   "cell_type": "code",
   "execution_count": 50,
   "id": "532dd3f0",
   "metadata": {},
   "outputs": [
    {
     "data": {
      "text/plain": [
       "1536.9"
      ]
     },
     "execution_count": 50,
     "metadata": {},
     "output_type": "execute_result"
    }
   ],
   "source": [
    "get_formatted_price(ams_clean, \"Rent Per Month\", (0, 1))"
   ]
  },
  {
   "cell_type": "code",
   "execution_count": 52,
   "id": "3da0edec",
   "metadata": {},
   "outputs": [
    {
     "data": {
      "text/plain": [
       "(16.0, 70.0, 9.0)"
      ]
     },
     "execution_count": 52,
     "metadata": {},
     "output_type": "execute_result"
    }
   ],
   "source": [
    "(get_formatted_price(ams_clean, \"Restaurants\", (0, 1)), \n",
    " get_formatted_price(ams_clean, \"Restaurants\", (1, 1)),\n",
    " get_formatted_price(ams_clean, \"Restaurants\", (2, 1)),)"
   ]
  },
  {
   "cell_type": "code",
   "execution_count": 55,
   "id": "10f819fd",
   "metadata": {},
   "outputs": [
    {
     "data": {
      "text/plain": [
       "[16.0, 70.0, 9.0, 5.0, 4.5, 3.46, 2.67, 2.29]"
      ]
     },
     "execution_count": 55,
     "metadata": {},
     "output_type": "execute_result"
    }
   ],
   "source": [
    "[get_formatted_price(ams_clean, \"Restaurants\", (i, 1)) for i in range(len(ams_clean[\"Restaurants\"]))]"
   ]
  },
  {
   "cell_type": "markdown",
   "id": "37d4bf28",
   "metadata": {},
   "source": [
    "### Sum of full categories"
   ]
  },
  {
   "cell_type": "code",
   "execution_count": 61,
   "id": "4b037279",
   "metadata": {},
   "outputs": [],
   "source": [
    "features_to_sum = ('Restaurants', 'Markets', 'Utilities (Monthly)')\n",
    "rent_feature = 'Rent Per Month'"
   ]
  },
  {
   "cell_type": "code",
   "execution_count": 62,
   "id": "a171ebf1",
   "metadata": {},
   "outputs": [
    {
     "data": {
      "text/plain": [
       "{'Restaurants': 112.92, 'Markets': 74.4, 'Utilities (Monthly)': 215.34}"
      ]
     },
     "execution_count": 62,
     "metadata": {},
     "output_type": "execute_result"
    }
   ],
   "source": [
    "expenses = {f: sum([get_formatted_price(ams_clean, f, (i, 1)) for i in range(len(ams_clean[f]))]) \n",
    "               for f in features_to_sum}\n",
    "expenses"
   ]
  },
  {
   "cell_type": "code",
   "execution_count": 63,
   "id": "2bcfa51f",
   "metadata": {},
   "outputs": [
    {
     "data": {
      "text/plain": [
       "{'Restaurants': 112.92,\n",
       " 'Markets': 74.4,\n",
       " 'Utilities (Monthly)': 215.34,\n",
       " 'Rent Per Month': 1536.9}"
      ]
     },
     "execution_count": 63,
     "metadata": {},
     "output_type": "execute_result"
    }
   ],
   "source": [
    "expenses[rent_feature] = get_formatted_price(ams_clean, rent_feature, (0, 1))\n",
    "expenses"
   ]
  },
  {
   "cell_type": "code",
   "execution_count": 65,
   "id": "d2928e66",
   "metadata": {},
   "outputs": [
    {
     "data": {
      "text/plain": [
       "1939.56"
      ]
     },
     "execution_count": 65,
     "metadata": {},
     "output_type": "execute_result"
    }
   ],
   "source": [
    "sum(expenses.values())"
   ]
  },
  {
   "cell_type": "code",
   "execution_count": null,
   "id": "e11d0ec9",
   "metadata": {},
   "outputs": [],
   "source": []
  }
 ],
 "metadata": {
  "kernelspec": {
   "display_name": "venv",
   "language": "python",
   "name": "venv"
  },
  "language_info": {
   "codemirror_mode": {
    "name": "ipython",
    "version": 3
   },
   "file_extension": ".py",
   "mimetype": "text/x-python",
   "name": "python",
   "nbconvert_exporter": "python",
   "pygments_lexer": "ipython3",
   "version": "3.9.2"
  }
 },
 "nbformat": 4,
 "nbformat_minor": 5
}
