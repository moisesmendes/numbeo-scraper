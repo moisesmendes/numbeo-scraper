{
 "cells": [
  {
   "cell_type": "markdown",
   "id": "f7e57ad0",
   "metadata": {},
   "source": [
    "# EU Cities Cost of Living Comparison"
   ]
  },
  {
   "cell_type": "code",
   "execution_count": 30,
   "id": "95e08469",
   "metadata": {},
   "outputs": [],
   "source": [
    "import os\n",
    "import warnings\n",
    "import json\n",
    "import pandas as pd"
   ]
  },
  {
   "cell_type": "code",
   "execution_count": 2,
   "id": "240501fc",
   "metadata": {},
   "outputs": [],
   "source": [
    "os.chdir(\"..\")\n",
    "warnings.filterwarnings(\"ignore\")"
   ]
  },
  {
   "cell_type": "code",
   "execution_count": 3,
   "id": "4599405e",
   "metadata": {},
   "outputs": [],
   "source": [
    "from scraper.scrape import API, URL"
   ]
  },
  {
   "cell_type": "code",
   "execution_count": 4,
   "id": "5d3feb8e",
   "metadata": {},
   "outputs": [],
   "source": [
    "def get_city_info(country: str, city: str):\n",
    "    api = API(URL, country)\n",
    "    return api.get_single_city(city)"
   ]
  },
  {
   "cell_type": "code",
   "execution_count": 5,
   "id": "4ddb806d",
   "metadata": {},
   "outputs": [],
   "source": [
    "def format_keys(city_info: dict):\n",
    "    return {elem[2:]: city_info[elem] for elem in list(city_info.keys())}"
   ]
  },
  {
   "cell_type": "code",
   "execution_count": 23,
   "id": "8f3be733",
   "metadata": {},
   "outputs": [],
   "source": [
    "def get_formatted_price(\n",
    "    city_info: dict, \n",
    "    group_key: str = \"\", \n",
    "    price_idx: tuple = (0, 1)):\n",
    "    \n",
    "    price_str = city_info[group_key][price_idx[0]][price_idx[1]]\n",
    "    price_str = price_str.replace(u'\\xa0', u'').strip()[:-1]\n",
    "    price_f = float(price_str.replace(',', ''))\n",
    "    return round(price_f, 2)"
   ]
  },
  {
   "cell_type": "code",
   "execution_count": 7,
   "id": "305f9dc4",
   "metadata": {},
   "outputs": [],
   "source": [
    "EXPENSES_FEATURES = ('Restaurants', 'Markets', 'Utilities (Monthly)')\n",
    "RENT_FEATURE = 'Rent Per Month'\n",
    "TOTAL_FEATURE = 'Cost of Living'"
   ]
  },
  {
   "cell_type": "code",
   "execution_count": 25,
   "id": "014fed77",
   "metadata": {},
   "outputs": [],
   "source": [
    "def summary_expenses(city_info: dict):\n",
    "    expenses = {f: round(sum([get_formatted_price(city_info, f, (i, 1)) for i in range(len(city_info[f]))]), 2)\n",
    "                    for f in EXPENSES_FEATURES}\n",
    "    expenses[RENT_FEATURE] = get_formatted_price(city_info, RENT_FEATURE, (0, 1))\n",
    "    expenses[TOTAL_FEATURE] = round(sum(expenses.values()), 2)\n",
    "    return expenses"
   ]
  },
  {
   "cell_type": "code",
   "execution_count": 9,
   "id": "818611b2",
   "metadata": {},
   "outputs": [],
   "source": [
    "def get_city_summary(country: str, city: str):\n",
    "    city_info = format_keys(get_city_info(country, city))\n",
    "    return summary_expenses(city_info)"
   ]
  },
  {
   "cell_type": "markdown",
   "id": "6b3b741b",
   "metadata": {},
   "source": [
    "### Examples: single city"
   ]
  },
  {
   "cell_type": "code",
   "execution_count": 27,
   "id": "5a7c6062",
   "metadata": {},
   "outputs": [
    {
     "data": {
      "text/plain": [
       "{'Restaurants': 112.92,\n",
       " 'Markets': 74.4,\n",
       " 'Utilities (Monthly)': 215.34,\n",
       " 'Rent Per Month': 1536.9,\n",
       " 'Cost of Living': 1939.56}"
      ]
     },
     "execution_count": 27,
     "metadata": {},
     "output_type": "execute_result"
    }
   ],
   "source": [
    "get_city_summary(\"Netherlands\", \"Amsterdam\")"
   ]
  },
  {
   "cell_type": "code",
   "execution_count": 28,
   "id": "05ec075e",
   "metadata": {},
   "outputs": [
    {
     "data": {
      "text/plain": [
       "{'Restaurants': 105.62,\n",
       " 'Markets': 97.94,\n",
       " 'Utilities (Monthly)': 213.01,\n",
       " 'Rent Per Month': 1292.37,\n",
       " 'Cost of Living': 1708.94}"
      ]
     },
     "execution_count": 28,
     "metadata": {},
     "output_type": "execute_result"
    }
   ],
   "source": [
    "get_city_summary(\"France\", \"Paris\")"
   ]
  },
  {
   "cell_type": "code",
   "execution_count": 29,
   "id": "6a1be86a",
   "metadata": {},
   "outputs": [
    {
     "data": {
      "text/plain": [
       "{'Restaurants': 96.6,\n",
       " 'Markets': 64.31,\n",
       " 'Utilities (Monthly)': 227.11,\n",
       " 'Rent Per Month': 1724.53,\n",
       " 'Cost of Living': 2112.55}"
      ]
     },
     "execution_count": 29,
     "metadata": {},
     "output_type": "execute_result"
    }
   ],
   "source": [
    "get_city_summary(\"United Kingdom\", \"London\")"
   ]
  },
  {
   "cell_type": "markdown",
   "id": "18dd56dc",
   "metadata": {},
   "source": [
    "## Getting multiple"
   ]
  },
  {
   "cell_type": "code",
   "execution_count": 35,
   "id": "e6d06d68",
   "metadata": {},
   "outputs": [],
   "source": [
    "cities = [\n",
    "    (\"Netherlands\", \"Amsterdam\"),\n",
    "    (\"France\", \"Paris\"),\n",
    "    (\"United Kingdom\", \"London\"),\n",
    "    (\"Portugal\", \"Lisbon\"),\n",
    "    (\"Spain\", \"Barcelona\"),\n",
    "    (\"Italy\", \"Rome\"),\n",
    "    (\"Germany\", \"Berlin\"),\n",
    "    (\"Austria\", \"Vienna\"),\n",
    "]"
   ]
  },
  {
   "cell_type": "code",
   "execution_count": 42,
   "id": "7c6a5877",
   "metadata": {},
   "outputs": [],
   "source": [
    "info = {c[1]: get_city_summary(c[0], c[1]) for c in cities}"
   ]
  },
  {
   "cell_type": "code",
   "execution_count": 43,
   "id": "8570cf27",
   "metadata": {},
   "outputs": [
    {
     "data": {
      "text/html": [
       "<div>\n",
       "<style scoped>\n",
       "    .dataframe tbody tr th:only-of-type {\n",
       "        vertical-align: middle;\n",
       "    }\n",
       "\n",
       "    .dataframe tbody tr th {\n",
       "        vertical-align: top;\n",
       "    }\n",
       "\n",
       "    .dataframe thead th {\n",
       "        text-align: right;\n",
       "    }\n",
       "</style>\n",
       "<table border=\"1\" class=\"dataframe\">\n",
       "  <thead>\n",
       "    <tr style=\"text-align: right;\">\n",
       "      <th></th>\n",
       "      <th>Amsterdam</th>\n",
       "      <th>Paris</th>\n",
       "      <th>London</th>\n",
       "      <th>Lisbon</th>\n",
       "      <th>Barcelona</th>\n",
       "      <th>Rome</th>\n",
       "      <th>Berlin</th>\n",
       "      <th>Vienna</th>\n",
       "    </tr>\n",
       "  </thead>\n",
       "  <tbody>\n",
       "    <tr>\n",
       "      <th>Restaurants</th>\n",
       "      <td>112.92</td>\n",
       "      <td>105.62</td>\n",
       "      <td>96.60</td>\n",
       "      <td>65.37</td>\n",
       "      <td>81.54</td>\n",
       "      <td>95.15</td>\n",
       "      <td>82.60</td>\n",
       "      <td>87.04</td>\n",
       "    </tr>\n",
       "    <tr>\n",
       "      <th>Markets</th>\n",
       "      <td>74.40</td>\n",
       "      <td>97.94</td>\n",
       "      <td>64.31</td>\n",
       "      <td>47.23</td>\n",
       "      <td>57.69</td>\n",
       "      <td>73.56</td>\n",
       "      <td>64.45</td>\n",
       "      <td>70.92</td>\n",
       "    </tr>\n",
       "    <tr>\n",
       "      <th>Utilities (Monthly)</th>\n",
       "      <td>215.34</td>\n",
       "      <td>213.01</td>\n",
       "      <td>227.11</td>\n",
       "      <td>162.85</td>\n",
       "      <td>196.67</td>\n",
       "      <td>225.09</td>\n",
       "      <td>305.20</td>\n",
       "      <td>224.13</td>\n",
       "    </tr>\n",
       "    <tr>\n",
       "      <th>Rent Per Month</th>\n",
       "      <td>1536.90</td>\n",
       "      <td>1292.37</td>\n",
       "      <td>1724.53</td>\n",
       "      <td>865.17</td>\n",
       "      <td>904.36</td>\n",
       "      <td>992.57</td>\n",
       "      <td>1048.38</td>\n",
       "      <td>874.62</td>\n",
       "    </tr>\n",
       "    <tr>\n",
       "      <th>Cost of Living</th>\n",
       "      <td>1939.56</td>\n",
       "      <td>1708.94</td>\n",
       "      <td>2112.55</td>\n",
       "      <td>1140.62</td>\n",
       "      <td>1240.26</td>\n",
       "      <td>1386.37</td>\n",
       "      <td>1500.63</td>\n",
       "      <td>1256.71</td>\n",
       "    </tr>\n",
       "  </tbody>\n",
       "</table>\n",
       "</div>"
      ],
      "text/plain": [
       "                     Amsterdam    Paris   London   Lisbon  Barcelona     Rome  \\\n",
       "Restaurants             112.92   105.62    96.60    65.37      81.54    95.15   \n",
       "Markets                  74.40    97.94    64.31    47.23      57.69    73.56   \n",
       "Utilities (Monthly)     215.34   213.01   227.11   162.85     196.67   225.09   \n",
       "Rent Per Month         1536.90  1292.37  1724.53   865.17     904.36   992.57   \n",
       "Cost of Living         1939.56  1708.94  2112.55  1140.62    1240.26  1386.37   \n",
       "\n",
       "                      Berlin   Vienna  \n",
       "Restaurants            82.60    87.04  \n",
       "Markets                64.45    70.92  \n",
       "Utilities (Monthly)   305.20   224.13  \n",
       "Rent Per Month       1048.38   874.62  \n",
       "Cost of Living       1500.63  1256.71  "
      ]
     },
     "execution_count": 43,
     "metadata": {},
     "output_type": "execute_result"
    }
   ],
   "source": [
    "pd.DataFrame(info)"
   ]
  }
 ],
 "metadata": {
  "kernelspec": {
   "display_name": "venv",
   "language": "python",
   "name": "venv"
  },
  "language_info": {
   "codemirror_mode": {
    "name": "ipython",
    "version": 3
   },
   "file_extension": ".py",
   "mimetype": "text/x-python",
   "name": "python",
   "nbconvert_exporter": "python",
   "pygments_lexer": "ipython3",
   "version": "3.9.2"
  }
 },
 "nbformat": 4,
 "nbformat_minor": 5
}
